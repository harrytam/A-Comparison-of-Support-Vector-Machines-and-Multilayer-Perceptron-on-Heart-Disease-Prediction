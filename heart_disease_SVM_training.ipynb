{
 "cells": [
  {
   "cell_type": "markdown",
   "id": "ce9623bc",
   "metadata": {},
   "source": [
    "# INM427 Neural Computing Final Coursework\n",
    "## By Ho Yin Tam"
   ]
  },
  {
   "cell_type": "markdown",
   "id": "855787c7",
   "metadata": {},
   "source": [
    "Import the library."
   ]
  },
  {
   "cell_type": "code",
   "execution_count": 1,
   "id": "69184962",
   "metadata": {},
   "outputs": [],
   "source": [
    "import numpy as np\n",
    "import pandas as pd\n",
    "import seaborn as sns\n",
    "import matplotlib.pyplot as plt\n",
    "from sklearn.model_selection import GridSearchCV\n",
    "from sklearn.svm import SVC\n",
    "from joblib import dump, load\n",
    "import time\n",
    "import warnings\n",
    "warnings.filterwarnings(\"ignore\")"
   ]
  },
  {
   "cell_type": "markdown",
   "id": "783b8b60",
   "metadata": {},
   "source": [
    "Import the training data."
   ]
  },
  {
   "cell_type": "code",
   "execution_count": 2,
   "id": "fd177711",
   "metadata": {
    "scrolled": false
   },
   "outputs": [
    {
     "name": "stdout",
     "output_type": "stream",
     "text": [
      "Shape of training data (features): (596, 11)\n",
      "Shape of training data (target label): (596, 1)\n"
     ]
    }
   ],
   "source": [
    "X_train = pd.read_csv('X_train.csv')\n",
    "y_train = pd.read_csv('y_train.csv')\n",
    "\n",
    "print('Shape of training data (features):', X_train.shape)\n",
    "print('Shape of training data (target label):', y_train.shape)"
   ]
  },
  {
   "cell_type": "markdown",
   "id": "32a1cf00",
   "metadata": {},
   "source": [
    "Set up the grid search parameters of kernal function, degree of polynomial kernal function and regularization parameters ."
   ]
  },
  {
   "cell_type": "code",
   "execution_count": 3,
   "id": "c3462f91",
   "metadata": {},
   "outputs": [
    {
     "data": {
      "text/plain": [
       "{'kernel': ['linear', 'poly', 'rbf'], 'degree': [2, 3, 4], 'C': [0.1, 1, 10]}"
      ]
     },
     "execution_count": 3,
     "metadata": {},
     "output_type": "execute_result"
    }
   ],
   "source": [
    "# Kernal functions are linear, polynomial, and rbf.\n",
    "# Degree of polynomial kernel function are 2,3,4. \n",
    "# Regularization parameters are 0.1, 1, 10.\n",
    "\n",
    "gs_parameters = {'kernel': ['linear', 'poly', 'rbf'],\n",
    "                 'degree': [2, 3, 4],\n",
    "                 'C': [0.1, 1, 10]}\n",
    "gs_parameters"
   ]
  },
  {
   "cell_type": "markdown",
   "id": "9b2763a7",
   "metadata": {},
   "source": [
    "Initiate the support vector machines model and perform grid search with 10-fold cross validation."
   ]
  },
  {
   "cell_type": "code",
   "execution_count": 4,
   "id": "cb7f5545",
   "metadata": {
    "scrolled": true
   },
   "outputs": [
    {
     "name": "stdout",
     "output_type": "stream",
     "text": [
      "Best score is: 0.8540395480225988\n",
      "Best parameters is: {'C': 1, 'degree': 3, 'kernel': 'poly'}\n",
      "Training time: 9.346280097961426\n"
     ]
    }
   ],
   "source": [
    "# Initiate the support vector machine classifier.\n",
    "svm_clf = SVC()\n",
    "\n",
    "# Perform grid search with 10-fold cross validation\n",
    "grid_search = GridSearchCV(estimator = svm_clf, param_grid = gs_parameters, cv = 10)\n",
    "\n",
    "# Train the model and count the training time\n",
    "start_time = time.time()\n",
    "grid_search.fit(X_train, y_train)\n",
    "end_time = time.time()\n",
    "\n",
    "# Display the best score and best parameters, and the training time\n",
    "print('Best score is:', grid_search.best_score_)\n",
    "print('Best parameters is:', grid_search.best_params_)\n",
    "print('Training time:', end_time - start_time)"
   ]
  },
  {
   "cell_type": "markdown",
   "id": "511bedb3",
   "metadata": {},
   "source": [
    "Extract the mean score of all the grid search parameters. "
   ]
  },
  {
   "cell_type": "code",
   "execution_count": 5,
   "id": "fe1c12f0",
   "metadata": {
    "scrolled": true
   },
   "outputs": [
    {
     "data": {
      "text/html": [
       "<div>\n",
       "<style scoped>\n",
       "    .dataframe tbody tr th:only-of-type {\n",
       "        vertical-align: middle;\n",
       "    }\n",
       "\n",
       "    .dataframe tbody tr th {\n",
       "        vertical-align: top;\n",
       "    }\n",
       "\n",
       "    .dataframe thead th {\n",
       "        text-align: right;\n",
       "    }\n",
       "</style>\n",
       "<table border=\"1\" class=\"dataframe\">\n",
       "  <thead>\n",
       "    <tr style=\"text-align: right;\">\n",
       "      <th></th>\n",
       "      <th>Kernel</th>\n",
       "      <th>Degree</th>\n",
       "      <th>C</th>\n",
       "      <th>Score</th>\n",
       "    </tr>\n",
       "  </thead>\n",
       "  <tbody>\n",
       "    <tr>\n",
       "      <th>13</th>\n",
       "      <td>poly</td>\n",
       "      <td>3</td>\n",
       "      <td>1</td>\n",
       "      <td>0.854040</td>\n",
       "    </tr>\n",
       "    <tr>\n",
       "      <th>16</th>\n",
       "      <td>poly</td>\n",
       "      <td>4</td>\n",
       "      <td>1</td>\n",
       "      <td>0.845621</td>\n",
       "    </tr>\n",
       "    <tr>\n",
       "      <th>19</th>\n",
       "      <td>poly</td>\n",
       "      <td>2</td>\n",
       "      <td>10</td>\n",
       "      <td>0.845537</td>\n",
       "    </tr>\n",
       "    <tr>\n",
       "      <th>10</th>\n",
       "      <td>poly</td>\n",
       "      <td>2</td>\n",
       "      <td>1</td>\n",
       "      <td>0.840621</td>\n",
       "    </tr>\n",
       "    <tr>\n",
       "      <th>17</th>\n",
       "      <td>rbf</td>\n",
       "      <td>4</td>\n",
       "      <td>1</td>\n",
       "      <td>0.840537</td>\n",
       "    </tr>\n",
       "    <tr>\n",
       "      <th>14</th>\n",
       "      <td>rbf</td>\n",
       "      <td>3</td>\n",
       "      <td>1</td>\n",
       "      <td>0.840537</td>\n",
       "    </tr>\n",
       "    <tr>\n",
       "      <th>11</th>\n",
       "      <td>rbf</td>\n",
       "      <td>2</td>\n",
       "      <td>1</td>\n",
       "      <td>0.840537</td>\n",
       "    </tr>\n",
       "    <tr>\n",
       "      <th>15</th>\n",
       "      <td>linear</td>\n",
       "      <td>4</td>\n",
       "      <td>1</td>\n",
       "      <td>0.840480</td>\n",
       "    </tr>\n",
       "    <tr>\n",
       "      <th>12</th>\n",
       "      <td>linear</td>\n",
       "      <td>3</td>\n",
       "      <td>1</td>\n",
       "      <td>0.840480</td>\n",
       "    </tr>\n",
       "    <tr>\n",
       "      <th>9</th>\n",
       "      <td>linear</td>\n",
       "      <td>2</td>\n",
       "      <td>1</td>\n",
       "      <td>0.840480</td>\n",
       "    </tr>\n",
       "    <tr>\n",
       "      <th>8</th>\n",
       "      <td>rbf</td>\n",
       "      <td>4</td>\n",
       "      <td>0.1</td>\n",
       "      <td>0.837175</td>\n",
       "    </tr>\n",
       "    <tr>\n",
       "      <th>5</th>\n",
       "      <td>rbf</td>\n",
       "      <td>3</td>\n",
       "      <td>0.1</td>\n",
       "      <td>0.837175</td>\n",
       "    </tr>\n",
       "    <tr>\n",
       "      <th>2</th>\n",
       "      <td>rbf</td>\n",
       "      <td>2</td>\n",
       "      <td>0.1</td>\n",
       "      <td>0.837175</td>\n",
       "    </tr>\n",
       "    <tr>\n",
       "      <th>1</th>\n",
       "      <td>poly</td>\n",
       "      <td>2</td>\n",
       "      <td>0.1</td>\n",
       "      <td>0.837147</td>\n",
       "    </tr>\n",
       "    <tr>\n",
       "      <th>21</th>\n",
       "      <td>linear</td>\n",
       "      <td>3</td>\n",
       "      <td>10</td>\n",
       "      <td>0.837090</td>\n",
       "    </tr>\n",
       "    <tr>\n",
       "      <th>24</th>\n",
       "      <td>linear</td>\n",
       "      <td>4</td>\n",
       "      <td>10</td>\n",
       "      <td>0.837090</td>\n",
       "    </tr>\n",
       "    <tr>\n",
       "      <th>18</th>\n",
       "      <td>linear</td>\n",
       "      <td>2</td>\n",
       "      <td>10</td>\n",
       "      <td>0.837090</td>\n",
       "    </tr>\n",
       "    <tr>\n",
       "      <th>4</th>\n",
       "      <td>poly</td>\n",
       "      <td>3</td>\n",
       "      <td>0.1</td>\n",
       "      <td>0.835621</td>\n",
       "    </tr>\n",
       "    <tr>\n",
       "      <th>7</th>\n",
       "      <td>poly</td>\n",
       "      <td>4</td>\n",
       "      <td>0.1</td>\n",
       "      <td>0.830621</td>\n",
       "    </tr>\n",
       "    <tr>\n",
       "      <th>0</th>\n",
       "      <td>linear</td>\n",
       "      <td>2</td>\n",
       "      <td>0.1</td>\n",
       "      <td>0.830395</td>\n",
       "    </tr>\n",
       "    <tr>\n",
       "      <th>6</th>\n",
       "      <td>linear</td>\n",
       "      <td>4</td>\n",
       "      <td>0.1</td>\n",
       "      <td>0.830395</td>\n",
       "    </tr>\n",
       "    <tr>\n",
       "      <th>3</th>\n",
       "      <td>linear</td>\n",
       "      <td>3</td>\n",
       "      <td>0.1</td>\n",
       "      <td>0.830395</td>\n",
       "    </tr>\n",
       "    <tr>\n",
       "      <th>22</th>\n",
       "      <td>poly</td>\n",
       "      <td>3</td>\n",
       "      <td>10</td>\n",
       "      <td>0.827203</td>\n",
       "    </tr>\n",
       "    <tr>\n",
       "      <th>20</th>\n",
       "      <td>rbf</td>\n",
       "      <td>2</td>\n",
       "      <td>10</td>\n",
       "      <td>0.825424</td>\n",
       "    </tr>\n",
       "    <tr>\n",
       "      <th>23</th>\n",
       "      <td>rbf</td>\n",
       "      <td>3</td>\n",
       "      <td>10</td>\n",
       "      <td>0.825424</td>\n",
       "    </tr>\n",
       "    <tr>\n",
       "      <th>26</th>\n",
       "      <td>rbf</td>\n",
       "      <td>4</td>\n",
       "      <td>10</td>\n",
       "      <td>0.825424</td>\n",
       "    </tr>\n",
       "    <tr>\n",
       "      <th>25</th>\n",
       "      <td>poly</td>\n",
       "      <td>4</td>\n",
       "      <td>10</td>\n",
       "      <td>0.815452</td>\n",
       "    </tr>\n",
       "  </tbody>\n",
       "</table>\n",
       "</div>"
      ],
      "text/plain": [
       "    Kernel Degree    C     Score\n",
       "13    poly      3    1  0.854040\n",
       "16    poly      4    1  0.845621\n",
       "19    poly      2   10  0.845537\n",
       "10    poly      2    1  0.840621\n",
       "17     rbf      4    1  0.840537\n",
       "14     rbf      3    1  0.840537\n",
       "11     rbf      2    1  0.840537\n",
       "15  linear      4    1  0.840480\n",
       "12  linear      3    1  0.840480\n",
       "9   linear      2    1  0.840480\n",
       "8      rbf      4  0.1  0.837175\n",
       "5      rbf      3  0.1  0.837175\n",
       "2      rbf      2  0.1  0.837175\n",
       "1     poly      2  0.1  0.837147\n",
       "21  linear      3   10  0.837090\n",
       "24  linear      4   10  0.837090\n",
       "18  linear      2   10  0.837090\n",
       "4     poly      3  0.1  0.835621\n",
       "7     poly      4  0.1  0.830621\n",
       "0   linear      2  0.1  0.830395\n",
       "6   linear      4  0.1  0.830395\n",
       "3   linear      3  0.1  0.830395\n",
       "22    poly      3   10  0.827203\n",
       "20     rbf      2   10  0.825424\n",
       "23     rbf      3   10  0.825424\n",
       "26     rbf      4   10  0.825424\n",
       "25    poly      4   10  0.815452"
      ]
     },
     "execution_count": 5,
     "metadata": {},
     "output_type": "execute_result"
    }
   ],
   "source": [
    "grid_search_result = pd.DataFrame(grid_search.cv_results_)\n",
    "grid_search_result = grid_search_result[['param_kernel', 'param_degree', 'param_C', 'mean_test_score']].sort_values(by = 'mean_test_score', ascending = False)\n",
    "grid_search_result.columns = ['Kernel', 'Degree', 'C', 'Score']\n",
    "grid_search_result"
   ]
  },
  {
   "cell_type": "markdown",
   "id": "0f24b3da",
   "metadata": {},
   "source": [
    "Save the best trained model with the best score for further testing."
   ]
  },
  {
   "cell_type": "code",
   "execution_count": 6,
   "id": "5533f199",
   "metadata": {
    "scrolled": true
   },
   "outputs": [
    {
     "data": {
      "text/plain": [
       "['best_svm_model.joblib']"
      ]
     },
     "execution_count": 6,
     "metadata": {},
     "output_type": "execute_result"
    }
   ],
   "source": [
    "best_svm_model = grid_search.best_estimator_\n",
    "dump(best_svm_model, 'best_svm_model.joblib')"
   ]
  },
  {
   "cell_type": "code",
   "execution_count": null,
   "id": "569a29b3",
   "metadata": {},
   "outputs": [],
   "source": []
  }
 ],
 "metadata": {
  "kernelspec": {
   "display_name": "Python 3 (ipykernel)",
   "language": "python",
   "name": "python3"
  },
  "language_info": {
   "codemirror_mode": {
    "name": "ipython",
    "version": 3
   },
   "file_extension": ".py",
   "mimetype": "text/x-python",
   "name": "python",
   "nbconvert_exporter": "python",
   "pygments_lexer": "ipython3",
   "version": "3.11.5"
  }
 },
 "nbformat": 4,
 "nbformat_minor": 5
}
