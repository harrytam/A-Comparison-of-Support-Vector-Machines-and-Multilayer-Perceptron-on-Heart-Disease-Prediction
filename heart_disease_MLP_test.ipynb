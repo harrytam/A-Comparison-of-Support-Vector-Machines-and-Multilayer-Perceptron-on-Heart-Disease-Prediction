{
 "cells": [
  {
   "cell_type": "markdown",
   "id": "8611a823",
   "metadata": {},
   "source": [
    "# INM427 Neural Computing Final Coursework\n",
    "## By Ho Yin Tam"
   ]
  },
  {
   "cell_type": "markdown",
   "id": "ccc5475b",
   "metadata": {},
   "source": [
    "Import the library."
   ]
  },
  {
   "cell_type": "code",
   "execution_count": 1,
   "id": "f566ad53",
   "metadata": {},
   "outputs": [],
   "source": [
    "import torch\n",
    "import torch.nn as nn\n",
    "import torch.optim as optim\n",
    "import torch.nn.functional as F\n",
    "import numpy as np\n",
    "import pandas as pd\n",
    "import seaborn as sns\n",
    "import matplotlib.pyplot as plt\n",
    "from sklearn import metrics\n",
    "from sklearn.model_selection import GridSearchCV\n",
    "from sklearn.metrics import confusion_matrix, accuracy_score, precision_score, recall_score, f1_score, roc_curve, auc \n",
    "from skorch import NeuralNetClassifier \n",
    "from joblib import dump, load\n",
    "import time"
   ]
  },
  {
   "cell_type": "markdown",
   "id": "97c4bfd5",
   "metadata": {},
   "source": [
    "Import the test dataset and convert it into tensor datatype."
   ]
  },
  {
   "cell_type": "code",
   "execution_count": 2,
   "id": "b4a794bf",
   "metadata": {},
   "outputs": [
    {
     "name": "stdout",
     "output_type": "stream",
     "text": [
      "Shape of test data (features): torch.Size([150, 11])\n",
      "Shape of test data (target label): torch.Size([150])\n",
      "Data type: torch.float32\n",
      "Data type: torch.int64\n"
     ]
    }
   ],
   "source": [
    "X_test = pd.read_csv('X_test.csv')\n",
    "y_test = pd.read_csv('y_test.csv')\n",
    "\n",
    "X_test_tensor = torch.tensor(X_test.to_numpy()).float()\n",
    "# Convert the data frame to series\n",
    "y_test = y_test.squeeze()\n",
    "y_test_tensor = torch.tensor(y_test.to_numpy()).long()\n",
    "\n",
    "# Display the shape and data type of the feature and target label\n",
    "print('Shape of test data (features):', X_test_tensor.shape)\n",
    "print('Shape of test data (target label):', y_test_tensor.shape)\n",
    "print('Data type:', X_test_tensor.dtype)\n",
    "print('Data type:', y_test_tensor.dtype)"
   ]
  },
  {
   "cell_type": "markdown",
   "id": "516b05a7",
   "metadata": {},
   "source": [
    "Import the best-trained multilayer perceptron model and use the test dataset to test it."
   ]
  },
  {
   "cell_type": "code",
   "execution_count": 3,
   "id": "b6d27da7",
   "metadata": {},
   "outputs": [],
   "source": [
    "class MLP_onehiddenlayer(nn.Module):\n",
    "    def __init__(self, input_size, output_size, hidden_size):\n",
    "        super(MLP_onehiddenlayer, self).__init__()\n",
    "        self.fc1 = nn.Linear(input_size, hidden_size)\n",
    "        self.relu1 = nn.ReLU()\n",
    "        self.fc2 = nn.Linear(hidden_size, output_size)\n",
    "        self.softmax = nn.Softmax(dim = 1)\n",
    "     \n",
    "    def forward(self, x):\n",
    "        x = self.fc1(x)\n",
    "        x = self.relu1(x)\n",
    "        x = self.fc2(x)\n",
    "        x = self.softmax(x)\n",
    "        return x"
   ]
  },
  {
   "cell_type": "code",
   "execution_count": 4,
   "id": "fb09f400",
   "metadata": {
    "scrolled": false
   },
   "outputs": [
    {
     "data": {
      "text/plain": [
       "array([0, 0, 0, 0, 1, 0, 0, 0, 1, 0, 0, 1, 1, 1, 1, 0, 1, 1, 1, 1, 1, 1,\n",
       "       1, 1, 0, 1, 0, 0, 0, 0, 1, 1, 0, 1, 1, 0, 1, 1, 0, 0, 1, 1, 0, 0,\n",
       "       0, 0, 0, 0, 0, 0, 0, 1, 1, 0, 1, 0, 0, 1, 1, 0, 1, 1, 0, 0, 1, 0,\n",
       "       1, 1, 1, 0, 0, 0, 0, 1, 1, 1, 1, 0, 0, 1, 0, 1, 1, 0, 1, 1, 1, 1,\n",
       "       0, 1, 1, 0, 0, 0, 0, 0, 0, 1, 0, 0, 1, 1, 0, 1, 1, 1, 0, 0, 1, 0,\n",
       "       1, 1, 0, 1, 0, 1, 1, 0, 1, 1, 0, 1, 1, 0, 1, 0, 0, 0, 1, 0, 1, 0,\n",
       "       0, 1, 0, 1, 0, 0, 0, 1, 1, 1, 1, 0, 0, 0, 0, 0, 1, 1], dtype=int64)"
      ]
     },
     "execution_count": 4,
     "metadata": {},
     "output_type": "execute_result"
    }
   ],
   "source": [
    "best_mlp_model = load('best_mlp_model.joblib')\n",
    "start_time = time.time()\n",
    "mlp_y_pred = best_mlp_model.predict(X_test_tensor)\n",
    "end_time = time.time()\n",
    "mlp_y_pred"
   ]
  },
  {
   "cell_type": "markdown",
   "id": "47e6203e",
   "metadata": {},
   "source": [
    "Compute the confusion matrix and visualize it."
   ]
  },
  {
   "cell_type": "code",
   "execution_count": 5,
   "id": "e9788491",
   "metadata": {
    "scrolled": false
   },
   "outputs": [
    {
     "data": {
      "image/png": "[encoded data removed]",
      "text/plain": [
       "<Figure size 300x300 with 1 Axes>"
      ]
     },
     "metadata": {},
     "output_type": "display_data"
    }
   ],
   "source": [
    "mlp_conf_m = confusion_matrix(mlp_y_pred, y_test_tensor)\n",
    "mlp_conf_m\n",
    "plt.figure(figsize = (3,3))\n",
    "sns.heatmap(mlp_conf_m, annot = True, cmap = 'Blues', cbar = False)\n",
    "plt.title('Confusion matrix (MLP)')\n",
    "plt.xlabel('Predicted labels')\n",
    "plt.ylabel('True labels')\n",
    "plt.show()"
   ]
  },
  {
   "cell_type": "markdown",
   "id": "fc764405",
   "metadata": {},
   "source": [
    "Calculate the accuracy, precision, recall, specificity and f1 score and display them."
   ]
  },
  {
   "cell_type": "code",
   "execution_count": 6,
   "id": "e5abc47a",
   "metadata": {
    "scrolled": true
   },
   "outputs": [
    {
     "name": "stdout",
     "output_type": "stream",
     "text": [
      "Test time (seconds): 0.04589033126831055\n",
      "Accuracy: 0.8466666666666667\n",
      "Precision: 0.8227848101265823\n",
      "Recall: 0.8783783783783784\n",
      "Specificity: 0.8157894736842105\n",
      "F1 score: 0.8496732026143792\n"
     ]
    }
   ],
   "source": [
    "# Test time (seconds)\n",
    "test_time =  end_time - start_time\n",
    "\n",
    "# Accuracy\n",
    "mlp_accuracy = accuracy_score(mlp_y_pred, y_test_tensor)\n",
    "\n",
    "# Precision\n",
    "mlp_precision = precision_score(mlp_y_pred, y_test_tensor)\n",
    "\n",
    "# Recall\n",
    "mlp_recall = recall_score(mlp_y_pred, y_test_tensor)\n",
    "\n",
    "# Specificity\n",
    "mlp_specificity = mlp_conf_m[0, 0] / (mlp_conf_m[0,0] + mlp_conf_m[0,1])\n",
    "\n",
    "# F1score\n",
    "mlp_f1_score = f1_score(mlp_y_pred, y_test_tensor)\n",
    "\n",
    "# Display the results\n",
    "print('Test time (seconds):', test_time)\n",
    "print('Accuracy:', mlp_accuracy)\n",
    "print('Precision:', mlp_precision)\n",
    "print('Recall:', mlp_recall)\n",
    "print('Specificity:', mlp_specificity)\n",
    "print('F1 score:', mlp_f1_score)"
   ]
  },
  {
   "cell_type": "markdown",
   "id": "de71db48",
   "metadata": {},
   "source": [
    "Visualize the receiver operating characteristic (ROC) curve and compute the area under the curve (AUC)."
   ]
  },
  {
   "cell_type": "code",
   "execution_count": 7,
   "id": "7b6bc9ea",
   "metadata": {},
   "outputs": [
    {
     "data": {
      "image/png": "[encoded data removed]",
      "text/plain": [
       "<Figure size 600x400 with 1 Axes>"
      ]
     },
     "metadata": {},
     "output_type": "display_data"
    }
   ],
   "source": [
    "y_prob = best_mlp_model.predict_proba(X_test_tensor)[:, 1]\n",
    "mlp_false_pr, mlp_true_pr, thresholds = roc_curve(y_test_tensor, y_prob)\n",
    "mlp_auc_value = auc(mlp_false_pr, mlp_true_pr)\n",
    "\n",
    "plt.figure(figsize = (6, 4))\n",
    "\n",
    "plt.plot(mlp_false_pr, mlp_true_pr, label = 'ROC curve of MLP model (AUC value = %0.2f)' %mlp_auc_value)\n",
    "plt.plot([0, 1], [0, 1], label = 'Random guess')\n",
    "\n",
    "plt.title('ROC curve (MLP)')\n",
    "plt.xlabel('False positive rate')\n",
    "plt.ylabel('True positive rate')\n",
    "plt.legend()\n",
    "plt.show()"
   ]
  },
  {
   "cell_type": "code",
   "execution_count": null,
   "id": "2f54c87a",
   "metadata": {},
   "outputs": [],
   "source": []
  }
 ],
 "metadata": {
  "kernelspec": {
   "display_name": "Python 3 (ipykernel)",
   "language": "python",
   "name": "python3"
  },
  "language_info": {
   "codemirror_mode": {
    "name": "ipython",
    "version": 3
   },
   "file_extension": ".py",
   "mimetype": "text/x-python",
   "name": "python",
   "nbconvert_exporter": "python",
   "pygments_lexer": "ipython3",
   "version": "3.11.5"
  }
 },
 "nbformat": 4,
 "nbformat_minor": 5
}
